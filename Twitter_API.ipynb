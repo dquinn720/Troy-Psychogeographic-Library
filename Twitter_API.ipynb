{
 "cells": [
  {
   "cell_type": "code",
   "execution_count": 1,
   "metadata": {
    "collapsed": true
   },
   "outputs": [],
   "source": [
    "from random import randint\n",
    "import twitter"
   ]
  },
  {
   "cell_type": "code",
   "execution_count": 2,
   "metadata": {
    "collapsed": true
   },
   "outputs": [],
   "source": [
    "def random_order(input_string):\n",
    "    return_string=\"\"\n",
    "    return_list=[]\n",
    "    #ending_punc=[\".\",\"?\",\"!\"]\n",
    "    #random_punc=randint(0,2)\n",
    "    string_list=input_string.split(\" \")\n",
    "    while len(string_list)>1:\n",
    "        word_to_choose=randint(0,len(string_list)-1)\n",
    "        return_list.append(string_list[word_to_choose])\n",
    "        string_list=string_list[0:word_to_choose]+string_list[word_to_choose+1:]\n",
    "    return_list.append(string_list[0])\n",
    "    for x in return_list:\n",
    "        return_string += str(x) + \" \"\n",
    "    return_string=return_string[0:len(return_string)-1]\n",
    "    return(return_string)"
   ]
  },
  {
   "cell_type": "code",
   "execution_count": 3,
   "metadata": {
    "collapsed": true
   },
   "outputs": [],
   "source": [
    "consumer_key = 'jDswKwMukdZtsU2NEfonIBgEM'\n",
    "consumer_secret = 'fy1noCpWWzv27WikhzRHNH4IUSSLt3jKVnY68g7xh1Ut2cc3WT'\n",
    "access_key = '853763456-9tunNbMNATQyvxHpGjLfFhT1Fkla80yxkm5o2sBO'\n",
    "access_secret = 'SDZ3sC5WxI8TRbGKT4EGUGWD8VVMrrfl2MqDWKNq8NKMX'\n",
    "\n",
    "api = twitter.Api(consumer_key=consumer_key, consumer_secret=consumer_secret,\n",
    "                  access_token_key=access_key, access_token_secret=access_secret)"
   ]
  },
  {
   "cell_type": "code",
   "execution_count": 4,
   "metadata": {
    "collapsed": true
   },
   "outputs": [],
   "source": [
    "f = api.GetHomeTimeline(count=20)"
   ]
  },
  {
   "cell_type": "code",
   "execution_count": 5,
   "metadata": {
    "collapsed": true
   },
   "outputs": [],
   "source": [
    "follower_tweets = [i.AsDict() for i in f]"
   ]
  },
  {
   "cell_type": "code",
   "execution_count": 6,
   "metadata": {},
   "outputs": [
    {
     "name": "stdout",
     "output_type": "stream",
     "text": [
      "original: AAAAAAAAAAHHHHHHHHHHHHHHH\n",
      "random: AAAAAAAAAAHHHHHHHHHHHHHHH\n",
      "original: abases as an airt\n",
      "random: an airt abases as\n",
      "original: At the housesteps of the 4th Of the equidifferent uneven numbers, number 7 Eccles street,\n",
      "random: 4th At equidifferent Eccles Of number housesteps of street, uneven the 7 the numbers, the\n",
      "original: gossamer plier\n",
      "random: plier gossamer\n",
      "original: cgnq\n",
      "random: cgnq\n",
      "original: The FCC chairman subtly shot down Trump’s threat to revoke NBC’s licenses: https://t.co/wT58ocUp9p\n",
      "random: https://t.co/wT58ocUp9p threat Trump’s The down revoke to NBC’s licenses: subtly shot FCC chairman\n",
      "original: saniram\n",
      "random: saniram\n",
      "original: fuck mislabeled\n",
      "random: mislabeled fuck\n",
      "original: i sent a guy a pic and he was like “you’re hot but your personality is what’s really attractive” it was offensive\n",
      "random: a your and was was sent pic “you’re hot he what’s i a but personality like it attractive” guy offensive is really\n",
      "original: RT @OmicPunk: When I ask my 5yo. what he wants to hear and he says @AndrewWK, I can't help but feel like, as a parent, I'm doing something…\n",
      "random: I'm he feel I but I can't @OmicPunk: something… he wants ask as to my and says a hear @AndrewWK, doing RT like, what help When 5yo. parent,\n",
      "original: RT @MrJGeldard: \"I've never felt so alive!\" - Wheelie bin 28, Leeds, 16.10.17. \n",
      "#Ophelia https://t.co/yq998uoRj3\n",
      "random: - Wheelie alive!\" bin @MrJGeldard: 28, felt https://t.co/yq998uoRj3 \"I've never 16.10.17. Leeds, so \n",
      "#Ophelia RT\n",
      "original: This bot is cool because even though ppl are put up against each other they still +\n",
      "random: each because ppl This put even + up bot against is still they are other though cool\n",
      "original: RT @joshtpm: Personal story. Mom died suddenly when I was 12. Obviously very shattering, life changing experience. For a small boy, everyon…\n",
      "random: was changing very when Obviously experience. died boy, I suddenly For RT small Mom 12. shattering, Personal a @joshtpm: story. everyon… life\n",
      "original: Imagine being in love with a man on TV for years only to take your time replying when he says you look great. Now imagine that\n",
      "random: Now great. he time in take with to you being a years replying that imagine on says when look love TV only Imagine man your for\n",
      "original: \"View at Breakfast (18 Oct 2017)\": https://t.co/tReOXOVSK3\n",
      "random: at Oct (18 2017)\": \"View https://t.co/tReOXOVSK3 Breakfast\n",
      "original: and reply — in that he was feelin tipstaff, cue, prodooced from his gunpocket his Jurgensen’s shrapnel waterbury, ours by communionism,\n",
      "random: feelin cue, ours that waterbury, gunpocket by was reply communionism, and — he in tipstaff, Jurgensen’s his from prodooced his shrapnel\n",
      "original: I YOU DON'T DIG WORK\n",
      "random: DON'T YOU DIG WORK I\n",
      "original: sext: you excitedly visualize yourself conquering your fear...i take part in regular physical exercise\n",
      "random: regular conquering excitedly exercise part take visualize you yourself your in fear...i sext: physical\n",
      "original: u were a fool to follow me on twitter https://t.co/heRIE7dEtA\n",
      "random: u were me follow twitter a fool on https://t.co/heRIE7dEtA to\n",
      "original: John Waters' anarchic masterwork MULTIPLE MANIACS (1970), his gloriously grotesque second feature:… https://t.co/FilRovwGvj\n",
      "random: gloriously https://t.co/FilRovwGvj masterwork John MANIACS (1970), MULTIPLE his anarchic second grotesque Waters' feature:…\n"
     ]
    }
   ],
   "source": [
    "for tweety in follower_tweets:\n",
    "    print('original: ' + tweety['text'])\n",
    "    print('random: ' + random_order(tweety['text']))"
   ]
  },
  {
   "cell_type": "code",
   "execution_count": null,
   "metadata": {
    "collapsed": true
   },
   "outputs": [],
   "source": []
  }
 ],
 "metadata": {
  "kernelspec": {
   "display_name": "Python 3",
   "language": "python",
   "name": "python3"
  },
  "language_info": {
   "codemirror_mode": {
    "name": "ipython",
    "version": 3
   },
   "file_extension": ".py",
   "mimetype": "text/x-python",
   "name": "python",
   "nbconvert_exporter": "python",
   "pygments_lexer": "ipython3",
   "version": "3.6.1"
  }
 },
 "nbformat": 4,
 "nbformat_minor": 2
}
